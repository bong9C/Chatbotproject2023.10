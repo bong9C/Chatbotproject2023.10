{
 "cells": [
  {
   "cell_type": "code",
   "execution_count": 69,
   "metadata": {},
   "outputs": [],
   "source": [
    "import time\n",
    "import pandas as pd\n",
    "from bs4 import BeautifulSoup\n",
    "from selenium import webdriver\n",
    "from selenium.webdriver.common.by import By\n",
    "from selenium.webdriver.common.keys import Keys"
   ]
  },
  {
   "cell_type": "code",
   "execution_count": 70,
   "metadata": {},
   "outputs": [],
   "source": [
    "url = 'https://www.klac.or.kr/visit/subOfficeList.do'\n",
    "driver = webdriver.Chrome()\n",
    "driver.get(url)"
   ]
  },
  {
   "cell_type": "code",
   "execution_count": 71,
   "metadata": {},
   "outputs": [
    {
     "data": {
      "text/plain": [
       "0"
      ]
     },
     "execution_count": 71,
     "metadata": {},
     "output_type": "execute_result"
    }
   ],
   "source": [
    "soup = BeautifulSoup(driver.page_source, 'html.parser')\n",
    "lis = soup.select('.news_list > ul > li')\n",
    "len(lis)"
   ]
  },
  {
   "cell_type": "code",
   "execution_count": 77,
   "metadata": {},
   "outputs": [
    {
     "ename": "IndexError",
     "evalue": "list index out of range",
     "output_type": "error",
     "traceback": [
      "\u001b[1;31m---------------------------------------------------------------------------\u001b[0m",
      "\u001b[1;31mIndexError\u001b[0m                                Traceback (most recent call last)",
      "\u001b[1;32md:\\WorkSpace\\Chatbotproject2023.10\\크롤링\\법률사무소.ipynb 셀 4\u001b[0m line \u001b[0;36m1\n\u001b[1;32m----> <a href='vscode-notebook-cell:/d%3A/WorkSpace/Chatbotproject2023.10/%ED%81%AC%EB%A1%A4%EB%A7%81/%EB%B2%95%EB%A5%A0%EC%82%AC%EB%AC%B4%EC%86%8C.ipynb#X22sZmlsZQ%3D%3D?line=0'>1</a>\u001b[0m li \u001b[39m=\u001b[39m lis[\u001b[39m0\u001b[39m]\n\u001b[0;32m      <a href='vscode-notebook-cell:/d%3A/WorkSpace/Chatbotproject2023.10/%ED%81%AC%EB%A1%A4%EB%A7%81/%EB%B2%95%EB%A5%A0%EC%82%AC%EB%AC%B4%EC%86%8C.ipynb#X22sZmlsZQ%3D%3D?line=1'>2</a>\u001b[0m lis \u001b[39m=\u001b[39m soup\u001b[39m.\u001b[39mselect(\u001b[39m'\u001b[39m\u001b[39m.news_list > ul > li\u001b[39m\u001b[39m'\u001b[39m)\n",
      "\u001b[1;31mIndexError\u001b[0m: list index out of range"
     ]
    }
   ],
   "source": [
    "li = lis[0]\n",
    "lis = soup.select('.news_list > ul > li')"
   ]
  },
  {
   "cell_type": "code",
   "execution_count": 75,
   "metadata": {},
   "outputs": [
    {
     "ename": "NameError",
     "evalue": "name 'li' is not defined",
     "output_type": "error",
     "traceback": [
      "\u001b[1;31m---------------------------------------------------------------------------\u001b[0m",
      "\u001b[1;31mNameError\u001b[0m                                 Traceback (most recent call last)",
      "\u001b[1;32md:\\WorkSpace\\Chatbotproject2023.10\\크롤링\\법률사무소.ipynb 셀 4\u001b[0m line \u001b[0;36m1\n\u001b[1;32m----> <a href='vscode-notebook-cell:/d%3A/WorkSpace/Chatbotproject2023.10/%ED%81%AC%EB%A1%A4%EB%A7%81/%EB%B2%95%EB%A5%A0%EC%82%AC%EB%AC%B4%EC%86%8C.ipynb#X15sZmlsZQ%3D%3D?line=0'>1</a>\u001b[0m title \u001b[39m=\u001b[39m li\u001b[39m.\u001b[39mselect_one(\u001b[39m'\u001b[39m\u001b[39m.correct-selector\u001b[39m\u001b[39m'\u001b[39m)\u001b[39m.\u001b[39mget_text()\u001b[39m.\u001b[39mstrip()  \u001b[39m# Replace '.correct-selector' with the actual selector\u001b[39;00m\n\u001b[0;32m      <a href='vscode-notebook-cell:/d%3A/WorkSpace/Chatbotproject2023.10/%ED%81%AC%EB%A1%A4%EB%A7%81/%EB%B2%95%EB%A5%A0%EC%82%AC%EB%AC%B4%EC%86%8C.ipynb#X15sZmlsZQ%3D%3D?line=1'>2</a>\u001b[0m title\n",
      "\u001b[1;31mNameError\u001b[0m: name 'li' is not defined"
     ]
    }
   ],
   "source": [
    "title = lis.select_one('.correct-selector').get_text().strip()  # Replace '.correct-selector' with the actual selector\n",
    "title"
   ]
  },
  {
   "cell_type": "code",
   "execution_count": 53,
   "metadata": {},
   "outputs": [
    {
     "data": {
      "text/plain": [
       "143"
      ]
     },
     "execution_count": 53,
     "metadata": {},
     "output_type": "execute_result"
    }
   ],
   "source": [
    "count = driver.find_element(By.XPATH, '//*[@id=\"content\"]/div[2]/div/form/div[1]/div[1]/span/strong').text\n",
    "count = int(count[:])\n",
    "count"
   ]
  },
  {
   "cell_type": "code",
   "execution_count": 54,
   "metadata": {},
   "outputs": [
    {
     "data": {
      "text/plain": [
       "15"
      ]
     },
     "execution_count": 54,
     "metadata": {},
     "output_type": "execute_result"
    }
   ],
   "source": [
    "import math\n",
    "total_pages = math.ceil(143/10)\n",
    "total_pages"
   ]
  },
  {
   "cell_type": "code",
   "execution_count": null,
   "metadata": {},
   "outputs": [],
   "source": []
  },
  {
   "cell_type": "code",
   "execution_count": 76,
   "metadata": {},
   "outputs": [
    {
     "ename": "NoSuchWindowException",
     "evalue": "Message: no such window: target window already closed\nfrom unknown error: web view not found\n  (Session info: chrome=118.0.5993.89)\nStacktrace:\n\tGetHandleVerifier [0x00007FF766218EF2+54786]\n\t(No symbol) [0x00007FF766185612]\n\t(No symbol) [0x00007FF76603A64B]\n\t(No symbol) [0x00007FF76601A9F5]\n\t(No symbol) [0x00007FF7660A0887]\n\t(No symbol) [0x00007FF7660B43CF]\n\t(No symbol) [0x00007FF76609BC43]\n\t(No symbol) [0x00007FF766070941]\n\t(No symbol) [0x00007FF766071B84]\n\tGetHandleVerifier [0x00007FF766567F52+3524194]\n\tGetHandleVerifier [0x00007FF7665BD800+3874576]\n\tGetHandleVerifier [0x00007FF7665B5D7F+3843215]\n\tGetHandleVerifier [0x00007FF7662B5086+694166]\n\t(No symbol) [0x00007FF766190A88]\n\t(No symbol) [0x00007FF76618CA94]\n\t(No symbol) [0x00007FF76618CBC2]\n\t(No symbol) [0x00007FF76617CC83]\n\tBaseThreadInitThunk [0x00007FFEAACB7344+20]\n\tRtlUserThreadStart [0x00007FFEAC7E26B1+33]\n",
     "output_type": "error",
     "traceback": [
      "\u001b[1;31m---------------------------------------------------------------------------\u001b[0m",
      "\u001b[1;31mNoSuchWindowException\u001b[0m                     Traceback (most recent call last)",
      "\u001b[1;32md:\\WorkSpace\\Chatbotproject2023.10\\크롤링\\법률사무소.ipynb 셀 8\u001b[0m line \u001b[0;36m8\n\u001b[0;32m      <a href='vscode-notebook-cell:/d%3A/WorkSpace/Chatbotproject2023.10/%ED%81%AC%EB%A1%A4%EB%A7%81/%EB%B2%95%EB%A5%A0%EC%82%AC%EB%AC%B4%EC%86%8C.ipynb#W5sZmlsZQ%3D%3D?line=4'>5</a>\u001b[0m driver\u001b[39m.\u001b[39mget(url)\n\u001b[0;32m      <a href='vscode-notebook-cell:/d%3A/WorkSpace/Chatbotproject2023.10/%ED%81%AC%EB%A1%A4%EB%A7%81/%EB%B2%95%EB%A5%A0%EC%82%AC%EB%AC%B4%EC%86%8C.ipynb#W5sZmlsZQ%3D%3D?line=6'>7</a>\u001b[0m page_button \u001b[39m=\u001b[39m driver\u001b[39m.\u001b[39mfind_element(By\u001b[39m.\u001b[39mCSS_SELECTOR,\u001b[39mf\u001b[39m\u001b[39m'\u001b[39m\u001b[39m#content > div.contents_doc > div > form > div.paging_wrap > a:nth-child(\u001b[39m\u001b[39m{\u001b[39;00m\u001b[39m2\u001b[39m\u001b[39m+\u001b[39mpage\u001b[39m}\u001b[39;00m\u001b[39m)\u001b[39m\u001b[39m'\u001b[39m)\n\u001b[1;32m----> <a href='vscode-notebook-cell:/d%3A/WorkSpace/Chatbotproject2023.10/%ED%81%AC%EB%A1%A4%EB%A7%81/%EB%B2%95%EB%A5%A0%EC%82%AC%EB%AC%B4%EC%86%8C.ipynb#W5sZmlsZQ%3D%3D?line=7'>8</a>\u001b[0m page_button\u001b[39m.\u001b[39mclick()\n\u001b[0;32m      <a href='vscode-notebook-cell:/d%3A/WorkSpace/Chatbotproject2023.10/%ED%81%AC%EB%A1%A4%EB%A7%81/%EB%B2%95%EB%A5%A0%EC%82%AC%EB%AC%B4%EC%86%8C.ipynb#W5sZmlsZQ%3D%3D?line=8'>9</a>\u001b[0m time\u001b[39m.\u001b[39msleep(\u001b[39m2\u001b[39m)\n\u001b[0;32m     <a href='vscode-notebook-cell:/d%3A/WorkSpace/Chatbotproject2023.10/%ED%81%AC%EB%A1%A4%EB%A7%81/%EB%B2%95%EB%A5%A0%EC%82%AC%EB%AC%B4%EC%86%8C.ipynb#W5sZmlsZQ%3D%3D?line=11'>12</a>\u001b[0m soup \u001b[39m=\u001b[39m BeautifulSoup(driver\u001b[39m.\u001b[39mpage_source, \u001b[39m'\u001b[39m\u001b[39mhtml.parser\u001b[39m\u001b[39m'\u001b[39m)\n",
      "File \u001b[1;32mc:\\Users\\human\\anaconda3\\Lib\\site-packages\\selenium\\webdriver\\remote\\webelement.py:93\u001b[0m, in \u001b[0;36mWebElement.click\u001b[1;34m(self)\u001b[0m\n\u001b[0;32m     91\u001b[0m \u001b[39mdef\u001b[39;00m \u001b[39mclick\u001b[39m(\u001b[39mself\u001b[39m) \u001b[39m-\u001b[39m\u001b[39m>\u001b[39m \u001b[39mNone\u001b[39;00m:\n\u001b[0;32m     92\u001b[0m \u001b[39m    \u001b[39m\u001b[39m\"\"\"Clicks the element.\"\"\"\u001b[39;00m\n\u001b[1;32m---> 93\u001b[0m     \u001b[39mself\u001b[39m\u001b[39m.\u001b[39m_execute(Command\u001b[39m.\u001b[39mCLICK_ELEMENT)\n",
      "File \u001b[1;32mc:\\Users\\human\\anaconda3\\Lib\\site-packages\\selenium\\webdriver\\remote\\webelement.py:394\u001b[0m, in \u001b[0;36mWebElement._execute\u001b[1;34m(self, command, params)\u001b[0m\n\u001b[0;32m    392\u001b[0m     params \u001b[39m=\u001b[39m {}\n\u001b[0;32m    393\u001b[0m params[\u001b[39m\"\u001b[39m\u001b[39mid\u001b[39m\u001b[39m\"\u001b[39m] \u001b[39m=\u001b[39m \u001b[39mself\u001b[39m\u001b[39m.\u001b[39m_id\n\u001b[1;32m--> 394\u001b[0m \u001b[39mreturn\u001b[39;00m \u001b[39mself\u001b[39m\u001b[39m.\u001b[39m_parent\u001b[39m.\u001b[39mexecute(command, params)\n",
      "File \u001b[1;32mc:\\Users\\human\\anaconda3\\Lib\\site-packages\\selenium\\webdriver\\remote\\webdriver.py:344\u001b[0m, in \u001b[0;36mWebDriver.execute\u001b[1;34m(self, driver_command, params)\u001b[0m\n\u001b[0;32m    342\u001b[0m response \u001b[39m=\u001b[39m \u001b[39mself\u001b[39m\u001b[39m.\u001b[39mcommand_executor\u001b[39m.\u001b[39mexecute(driver_command, params)\n\u001b[0;32m    343\u001b[0m \u001b[39mif\u001b[39;00m response:\n\u001b[1;32m--> 344\u001b[0m     \u001b[39mself\u001b[39m\u001b[39m.\u001b[39merror_handler\u001b[39m.\u001b[39mcheck_response(response)\n\u001b[0;32m    345\u001b[0m     response[\u001b[39m\"\u001b[39m\u001b[39mvalue\u001b[39m\u001b[39m\"\u001b[39m] \u001b[39m=\u001b[39m \u001b[39mself\u001b[39m\u001b[39m.\u001b[39m_unwrap_value(response\u001b[39m.\u001b[39mget(\u001b[39m\"\u001b[39m\u001b[39mvalue\u001b[39m\u001b[39m\"\u001b[39m, \u001b[39mNone\u001b[39;00m))\n\u001b[0;32m    346\u001b[0m     \u001b[39mreturn\u001b[39;00m response\n",
      "File \u001b[1;32mc:\\Users\\human\\anaconda3\\Lib\\site-packages\\selenium\\webdriver\\remote\\errorhandler.py:229\u001b[0m, in \u001b[0;36mErrorHandler.check_response\u001b[1;34m(self, response)\u001b[0m\n\u001b[0;32m    227\u001b[0m         alert_text \u001b[39m=\u001b[39m value[\u001b[39m\"\u001b[39m\u001b[39malert\u001b[39m\u001b[39m\"\u001b[39m]\u001b[39m.\u001b[39mget(\u001b[39m\"\u001b[39m\u001b[39mtext\u001b[39m\u001b[39m\"\u001b[39m)\n\u001b[0;32m    228\u001b[0m     \u001b[39mraise\u001b[39;00m exception_class(message, screen, stacktrace, alert_text)  \u001b[39m# type: ignore[call-arg]  # mypy is not smart enough here\u001b[39;00m\n\u001b[1;32m--> 229\u001b[0m \u001b[39mraise\u001b[39;00m exception_class(message, screen, stacktrace)\n",
      "\u001b[1;31mNoSuchWindowException\u001b[0m: Message: no such window: target window already closed\nfrom unknown error: web view not found\n  (Session info: chrome=118.0.5993.89)\nStacktrace:\n\tGetHandleVerifier [0x00007FF766218EF2+54786]\n\t(No symbol) [0x00007FF766185612]\n\t(No symbol) [0x00007FF76603A64B]\n\t(No symbol) [0x00007FF76601A9F5]\n\t(No symbol) [0x00007FF7660A0887]\n\t(No symbol) [0x00007FF7660B43CF]\n\t(No symbol) [0x00007FF76609BC43]\n\t(No symbol) [0x00007FF766070941]\n\t(No symbol) [0x00007FF766071B84]\n\tGetHandleVerifier [0x00007FF766567F52+3524194]\n\tGetHandleVerifier [0x00007FF7665BD800+3874576]\n\tGetHandleVerifier [0x00007FF7665B5D7F+3843215]\n\tGetHandleVerifier [0x00007FF7662B5086+694166]\n\t(No symbol) [0x00007FF766190A88]\n\t(No symbol) [0x00007FF76618CA94]\n\t(No symbol) [0x00007FF76618CBC2]\n\t(No symbol) [0x00007FF76617CC83]\n\tBaseThreadInitThunk [0x00007FFEAACB7344+20]\n\tRtlUserThreadStart [0x00007FFEAC7E26B1+33]\n"
     ]
    }
   ],
   "source": [
    "data = []\n",
    "for page in range(1, 11):\n",
    "    url = 'https://www.klac.or.kr/visit/subOfficeList.do'\n",
    "    driver = webdriver.Chrome()\n",
    "    driver.get(url)\n",
    "\n",
    "    page_button = driver.find_element(By.CSS_SELECTOR,f'#content > div.contents_doc > div > form > div.paging_wrap > a:nth-child({2+page})')\n",
    "    page_button.click()\n",
    "    time.sleep(2)\n",
    "    \n",
    "\n",
    "    soup = BeautifulSoup(driver.page_source, 'html.parser')\n",
    "    lis = soup.select('.news_list > ul > li')\n",
    "\n",
    "\n",
    "    for li in lis:\n",
    "        title = li.select_one('.title').get_text().strip()\n",
    "        address = li.select_one('address').get_text().strip() \n",
    "        area = li.select_one('area').get_text().strip()\n",
    "        tel = li.select_one('.tel').get_text().strip()\n",
    "        data.append({'기관명':title, '주소':address, '담당지역':area, '대표전화': tel })\n",
    "        \n",
    "driver.close() "
   ]
  },
  {
   "cell_type": "code",
   "execution_count": 63,
   "metadata": {},
   "outputs": [
    {
     "data": {
      "text/html": [
       "<div>\n",
       "<style scoped>\n",
       "    .dataframe tbody tr th:only-of-type {\n",
       "        vertical-align: middle;\n",
       "    }\n",
       "\n",
       "    .dataframe tbody tr th {\n",
       "        vertical-align: top;\n",
       "    }\n",
       "\n",
       "    .dataframe thead th {\n",
       "        text-align: right;\n",
       "    }\n",
       "</style>\n",
       "<table border=\"1\" class=\"dataframe\">\n",
       "  <thead>\n",
       "    <tr style=\"text-align: right;\">\n",
       "      <th></th>\n",
       "    </tr>\n",
       "  </thead>\n",
       "  <tbody>\n",
       "  </tbody>\n",
       "</table>\n",
       "</div>"
      ],
      "text/plain": [
       "Empty DataFrame\n",
       "Columns: []\n",
       "Index: []"
      ]
     },
     "execution_count": 63,
     "metadata": {},
     "output_type": "execute_result"
    }
   ],
   "source": [
    "df = pd.DataFrame(data)\n",
    "df.head()"
   ]
  },
  {
   "cell_type": "code",
   "execution_count": null,
   "metadata": {},
   "outputs": [],
   "source": []
  }
 ],
 "metadata": {
  "kernelspec": {
   "display_name": "Python 3",
   "language": "python",
   "name": "python3"
  },
  "language_info": {
   "codemirror_mode": {
    "name": "ipython",
    "version": 3
   },
   "file_extension": ".py",
   "mimetype": "text/x-python",
   "name": "python",
   "nbconvert_exporter": "python",
   "pygments_lexer": "ipython3",
   "version": "3.11.4"
  }
 },
 "nbformat": 4,
 "nbformat_minor": 2
}
