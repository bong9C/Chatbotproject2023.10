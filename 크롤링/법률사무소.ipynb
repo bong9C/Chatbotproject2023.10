{
 "cells": [
  {
   "cell_type": "code",
   "execution_count": 16,
   "metadata": {},
   "outputs": [],
   "source": [
    "import time\n",
    "from selenium import webdriver\n",
    "from selenium.webdriver.common.by import By\n",
    "from bs4 import BeautifulSoup"
   ]
  },
  {
   "cell_type": "code",
   "execution_count": 17,
   "metadata": {},
   "outputs": [],
   "source": [
    "url = 'https://www.klac.or.kr/visit/subOfficeList.do'\n",
    "driver = webdriver.Chrome()\n",
    "driver.get(url)"
   ]
  },
  {
   "cell_type": "code",
   "execution_count": 26,
   "metadata": {},
   "outputs": [
    {
     "data": {
      "text/plain": [
       "0"
      ]
     },
     "execution_count": 26,
     "metadata": {},
     "output_type": "execute_result"
    }
   ],
   "source": [
    "soup = BeautifulSoup(driver.page_source, 'html.parser')\n",
    "lis = soup.select('.news_list > ul > li')\n",
    "len(lis)"
   ]
  },
  {
   "cell_type": "code",
   "execution_count": 25,
   "metadata": {},
   "outputs": [
    {
     "ename": "ValueError",
     "evalue": "invalid literal for int() with base 10: ''",
     "output_type": "error",
     "traceback": [
      "\u001b[1;31m---------------------------------------------------------------------------\u001b[0m",
      "\u001b[1;31mValueError\u001b[0m                                Traceback (most recent call last)",
      "\u001b[1;32md:\\WorkSpace\\Chatbotproject2023.10\\크롤링\\법률사무소.ipynb 셀 3\u001b[0m line \u001b[0;36m2\n\u001b[0;32m      <a href='vscode-notebook-cell:/d%3A/WorkSpace/Chatbotproject2023.10/%ED%81%AC%EB%A1%A4%EB%A7%81/%EB%B2%95%EB%A5%A0%EC%82%AC%EB%AC%B4%EC%86%8C.ipynb#W3sZmlsZQ%3D%3D?line=0'>1</a>\u001b[0m count \u001b[39m=\u001b[39m driver\u001b[39m.\u001b[39mfind_element(By\u001b[39m.\u001b[39mXPATH,\u001b[39m'\u001b[39m\u001b[39m//*[@id=\u001b[39m\u001b[39m\"\u001b[39m\u001b[39mcontent\u001b[39m\u001b[39m\"\u001b[39m\u001b[39m]/div[2]/div/form/div[3]/a[3]\u001b[39m\u001b[39m'\u001b[39m)\u001b[39m.\u001b[39mtext\n\u001b[1;32m----> <a href='vscode-notebook-cell:/d%3A/WorkSpace/Chatbotproject2023.10/%ED%81%AC%EB%A1%A4%EB%A7%81/%EB%B2%95%EB%A5%A0%EC%82%AC%EB%AC%B4%EC%86%8C.ipynb#W3sZmlsZQ%3D%3D?line=1'>2</a>\u001b[0m count \u001b[39m=\u001b[39m \u001b[39mint\u001b[39m(count[:\u001b[39m-\u001b[39m\u001b[39m1\u001b[39m])\n\u001b[0;32m      <a href='vscode-notebook-cell:/d%3A/WorkSpace/Chatbotproject2023.10/%ED%81%AC%EB%A1%A4%EB%A7%81/%EB%B2%95%EB%A5%A0%EC%82%AC%EB%AC%B4%EC%86%8C.ipynb#W3sZmlsZQ%3D%3D?line=2'>3</a>\u001b[0m count\n",
      "\u001b[1;31mValueError\u001b[0m: invalid literal for int() with base 10: ''"
     ]
    }
   ],
   "source": [
    "count = driver.find_element(By.XPATH,'//*[@id=\"content\"]/div[2]/div/form/div[3]/a[3]').text\n",
    "count = int(count[:-1])\n",
    "count"
   ]
  },
  {
   "cell_type": "code",
   "execution_count": null,
   "metadata": {},
   "outputs": [],
   "source": []
  }
 ],
 "metadata": {
  "kernelspec": {
   "display_name": "Python 3",
   "language": "python",
   "name": "python3"
  },
  "language_info": {
   "codemirror_mode": {
    "name": "ipython",
    "version": 3
   },
   "file_extension": ".py",
   "mimetype": "text/x-python",
   "name": "python",
   "nbconvert_exporter": "python",
   "pygments_lexer": "ipython3",
   "version": "3.11.4"
  }
 },
 "nbformat": 4,
 "nbformat_minor": 2
}
