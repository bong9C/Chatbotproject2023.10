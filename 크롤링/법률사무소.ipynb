{
 "cells": [
  {
   "cell_type": "code",
   "execution_count": 124,
   "metadata": {},
   "outputs": [],
   "source": [
    "import time\n",
    "import pandas as pd\n",
    "from bs4 import BeautifulSoup\n",
    "from selenium import webdriver\n",
    "from selenium.webdriver.common.by import By\n",
    "from selenium.webdriver.common.keys import Keys"
   ]
  },
  {
   "cell_type": "code",
   "execution_count": 125,
   "metadata": {},
   "outputs": [],
   "source": [
    "url = 'https://www.klac.or.kr/visit/subOfficeList.do'\n",
    "driver = webdriver.Chrome()\n",
    "driver.get(url)"
   ]
  },
  {
   "cell_type": "code",
   "execution_count": 126,
   "metadata": {},
   "outputs": [
    {
     "data": {
      "text/plain": [
       "10"
      ]
     },
     "execution_count": 126,
     "metadata": {},
     "output_type": "execute_result"
    }
   ],
   "source": [
    "soup = BeautifulSoup(driver.page_source, 'html.parser')\n",
    "trs = soup.select('.table_TP01.M_table > tbody > tr')\n",
    "#content > div.contents_doc > div > form > div.board_list.mt10.mobile_table.scroll > table > tbody > tr:nth-child(1)\n",
    "\n",
    "len(trs)"
   ]
  },
  {
   "cell_type": "code",
   "execution_count": 138,
   "metadata": {},
   "outputs": [
    {
     "data": {
      "text/plain": [
       "('부산동부출장소', '(48052 ) 부산 해운대구 재반로 176 미진빌딩 4층', '051-781-0710')"
      ]
     },
     "execution_count": 138,
     "metadata": {},
     "output_type": "execute_result"
    }
   ],
   "source": [
    "tr = trs[0]\n",
    "tds = tr.select('td')\n",
    "name = tds[0].get_text()\n",
    "addr = tds[1].get_text()\n",
    "tel = tds[3].get_text()\n",
    "name, addr, tel"
   ]
  },
  {
   "cell_type": "code",
   "execution_count": 150,
   "metadata": {},
   "outputs": [],
   "source": [
    "data=[]\n",
    "for tr in trs:\n",
    "    name = tds[0].get_text().strip()\n",
    "    address = tds[1].get_text().strip()\n",
    "    tel = tds[3].get_text().strip()\n",
    "\n",
    "    data.append({'기관명': name, '주소': address, '대표전화': tel })\n"
   ]
  },
  {
   "cell_type": "code",
   "execution_count": 142,
   "metadata": {},
   "outputs": [],
   "source": [
    "tr = trs[0]\n"
   ]
  },
  {
   "cell_type": "code",
   "execution_count": 129,
   "metadata": {},
   "outputs": [
    {
     "data": {
      "text/plain": [
       "143"
      ]
     },
     "execution_count": 129,
     "metadata": {},
     "output_type": "execute_result"
    }
   ],
   "source": [
    "count = driver.find_element(By.XPATH, '//*[@id=\"content\"]/div[2]/div/form/div[1]/div[1]/span/strong').text\n",
    "count = int(count[:])\n",
    "count"
   ]
  },
  {
   "cell_type": "code",
   "execution_count": 130,
   "metadata": {},
   "outputs": [
    {
     "data": {
      "text/plain": [
       "15"
      ]
     },
     "execution_count": 130,
     "metadata": {},
     "output_type": "execute_result"
    }
   ],
   "source": [
    "import math\n",
    "total_pages = math.ceil(143/10)\n",
    "total_pages"
   ]
  },
  {
   "cell_type": "code",
   "execution_count": 151,
   "metadata": {},
   "outputs": [],
   "source": [
    "data = []\n",
    "url = 'https://www.klac.or.kr/visit/subOfficeList.do'\n",
    "driver = webdriver.Chrome()\n",
    "driver.get(url)\n",
    "for page in range(1, 11):\n",
    "\n",
    "    page_button = driver.find_element(By.CSS_SELECTOR,f'#content > div.contents_doc > div > form > div.paging_wrap > a:nth-child({2+page})')\n",
    "    page_button.click()\n",
    "    time.sleep(2)\n",
    "    \n",
    "\n",
    "    soup = BeautifulSoup(driver.page_source, 'html.parser')\n",
    "    trs = soup.select('.table_TP01.M_table > tbody > tr')\n",
    "\n",
    "\n",
    "    for tr in trs:\n",
    "        name = tds[0].get_text().strip()\n",
    "        address = tds[1].get_text().strip()\n",
    "        tel = tds[3].get_text().strip()\n",
    "\n",
    "        data.append({'기관명': name, '주소': address, '대표전화': tel })\n",
    "\n",
    "\n",
    "        \n",
    "driver.close() "
   ]
  },
  {
   "cell_type": "code",
   "execution_count": 153,
   "metadata": {},
   "outputs": [
    {
     "data": {
      "text/html": [
       "<div>\n",
       "<style scoped>\n",
       "    .dataframe tbody tr th:only-of-type {\n",
       "        vertical-align: middle;\n",
       "    }\n",
       "\n",
       "    .dataframe tbody tr th {\n",
       "        vertical-align: top;\n",
       "    }\n",
       "\n",
       "    .dataframe thead th {\n",
       "        text-align: right;\n",
       "    }\n",
       "</style>\n",
       "<table border=\"1\" class=\"dataframe\">\n",
       "  <thead>\n",
       "    <tr style=\"text-align: right;\">\n",
       "      <th></th>\n",
       "      <th>기관명</th>\n",
       "      <th>주소</th>\n",
       "      <th>대표전화</th>\n",
       "    </tr>\n",
       "  </thead>\n",
       "  <tbody>\n",
       "    <tr>\n",
       "      <th>97</th>\n",
       "      <td>부산동부출장소</td>\n",
       "      <td>(48052 ) 부산 해운대구 재반로 176 미진빌딩 4층</td>\n",
       "      <td>051-781-0710</td>\n",
       "    </tr>\n",
       "    <tr>\n",
       "      <th>98</th>\n",
       "      <td>부산동부출장소</td>\n",
       "      <td>(48052 ) 부산 해운대구 재반로 176 미진빌딩 4층</td>\n",
       "      <td>051-781-0710</td>\n",
       "    </tr>\n",
       "    <tr>\n",
       "      <th>99</th>\n",
       "      <td>부산동부출장소</td>\n",
       "      <td>(48052 ) 부산 해운대구 재반로 176 미진빌딩 4층</td>\n",
       "      <td>051-781-0710</td>\n",
       "    </tr>\n",
       "  </tbody>\n",
       "</table>\n",
       "</div>"
      ],
      "text/plain": [
       "        기관명                                주소          대표전화\n",
       "97  부산동부출장소  (48052 ) 부산 해운대구 재반로 176 미진빌딩 4층  051-781-0710\n",
       "98  부산동부출장소  (48052 ) 부산 해운대구 재반로 176 미진빌딩 4층  051-781-0710\n",
       "99  부산동부출장소  (48052 ) 부산 해운대구 재반로 176 미진빌딩 4층  051-781-0710"
      ]
     },
     "execution_count": 153,
     "metadata": {},
     "output_type": "execute_result"
    }
   ],
   "source": [
    "df = pd.DataFrame(data)\n",
    "df.tail(3)"
   ]
  },
  {
   "cell_type": "code",
   "execution_count": null,
   "metadata": {},
   "outputs": [],
   "source": []
  },
  {
   "cell_type": "markdown",
   "metadata": {},
   "source": []
  }
 ],
 "metadata": {
  "kernelspec": {
   "display_name": "Python 3",
   "language": "python",
   "name": "python3"
  },
  "language_info": {
   "codemirror_mode": {
    "name": "ipython",
    "version": 3
   },
   "file_extension": ".py",
   "mimetype": "text/x-python",
   "name": "python",
   "nbconvert_exporter": "python",
   "pygments_lexer": "ipython3",
   "version": "3.11.4"
  }
 },
 "nbformat": 4,
 "nbformat_minor": 2
}
